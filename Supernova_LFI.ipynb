{
  "nbformat": 4,
  "nbformat_minor": 0,
  "metadata": {
    "colab": {
      "provenance": [],
      "collapsed_sections": [],
      "include_colab_link": true
    },
    "kernelspec": {
      "name": "python3",
      "display_name": "Python 3"
    },
    "language_info": {
      "name": "python"
    }
  },
  "cells": [
    {
      "cell_type": "markdown",
      "metadata": {
        "id": "view-in-github",
        "colab_type": "text"
      },
      "source": [
        "<a href=\"https://colab.research.google.com/github/louiseseeyave/ICIC_Data_Analysis/blob/main/Supernova_LFI.ipynb\" target=\"_parent\"><img src=\"https://colab.research.google.com/assets/colab-badge.svg\" alt=\"Open In Colab\"/></a>"
      ]
    },
    {
      "cell_type": "markdown",
      "source": [
        "Imports"
      ],
      "metadata": {
        "id": "sZAvLcMOJ-X1"
      }
    },
    {
      "cell_type": "code",
      "execution_count": null,
      "metadata": {
        "id": "Y5Yr5WxKHoKT"
      },
      "outputs": [],
      "source": [
        "import numpy as np\n",
        "from scipy import constants\n",
        "from matplotlib import pyplot as plt\n",
        "import seaborn as sns\n",
        "\n",
        "sns.set(font_scale=1.75, rc={'text.usetex': False})"
      ]
    },
    {
      "cell_type": "markdown",
      "source": [
        "The functions"
      ],
      "metadata": {
        "id": "g5WqR1PKIckP"
      }
    },
    {
      "cell_type": "code",
      "source": [
        "def eta(a, omega_m):\n",
        "    \"\"\"\n",
        "    Function to compute the eta parameter\n",
        "    \"\"\"\n",
        "    \n",
        "    # First, compute the s parameter\n",
        "    s = np.cbrt((1 - omega_m) / omega_m)\n",
        "\n",
        "    return 2 * np.sqrt(s**3 + 1) * (1 / (a ** 4) - 0.1540 * s / (a ** 3) + \n",
        "    0.4304 * s ** 2 / (a ** 2) + 0.19097 * s ** 3 / a + 0.066941 * s ** 4) ** (-1 / 8)\n",
        "    \n",
        "\n",
        "def luminosity_distance(z, h, omega_m):\n",
        "    \"\"\"\n",
        "    Function to compute the luminosity distance D_L(z) as a function of redshift,\n",
        "    reduced Hubble constant h, and the matter density omega_m\n",
        "    \"\"\"\n",
        "    # Calculate the value of H0 in SI units given h\n",
        "    H0 = (100 * h * 1_000 / (1_000_000 * constants.parsec))\n",
        "\n",
        "    return (constants.c / H0) * (1 + z) * (eta(1, omega_m) - eta(1 / (1 + z), omega_m))\n",
        "\n",
        "\n",
        "def distance_modulus(z, h, omega_m):\n",
        "    \"\"\"\n",
        "    Function to compute the distance modulus (mu) given an input redshift z, and\n",
        "    Hubble parameter h\n",
        "    \"\"\"\n",
        "    return 25 - 5 * np.log10(h) + 5 * np.log10(luminosity_distance(z, 1, omega_m) / (1_000_000 * constants.parsec))\n",
        "\n",
        "\n",
        "def generate_data(z_array, covariance, h, omega_m):\n",
        "    \"\"\"\n",
        "    Function to generate our mock data vector given an input redshift array,\n",
        "    covariance matrix for the noise, and cosmology parameters h and omega_m \n",
        "    \"\"\" \n",
        "    theory_data = distance_modulus(z_array, h, omega_m)\n",
        "\n",
        "    # Compute noise\n",
        "    theory_noise = np.random.multivariate_normal(np.zeros_like(z_array), covariance)\n",
        "\n",
        "    return theory_data + theory_noise\n"
      ],
      "metadata": {
        "id": "u1F0zsnvIdAW"
      },
      "execution_count": null,
      "outputs": []
    },
    {
      "cell_type": "markdown",
      "source": [
        "First, let us read in the supernova data and its covariance matrix"
      ],
      "metadata": {
        "id": "e_X8jIqBPG_2"
      }
    },
    {
      "cell_type": "code",
      "source": [
        "z_data, mu_data = np.loadtxt('jla_mub.txt').T\n",
        "\n",
        "# Get the number of supernova in the sample\n",
        "n_samples = len(z_data)\n",
        "\n",
        "# Load in covariance matrix and reshape it to make it square \n",
        "cov_mat = np.loadtxt('jla_mub_covmatrix.txt').reshape([n_samples, n_samples])"
      ],
      "metadata": {
        "id": "IJ8ixrhJPK0P"
      },
      "execution_count": null,
      "outputs": []
    },
    {
      "cell_type": "markdown",
      "source": [
        "First, let us plot the data of the distance modulus as a function of redshift"
      ],
      "metadata": {
        "id": "9AAYHh4LKYYJ"
      }
    },
    {
      "cell_type": "code",
      "source": [
        "\n",
        "# Plot the data & theoretical prediction for h = 0.7\n",
        "fig, ax = plt.subplots(figsize=(14, 7))\n",
        "\n",
        "# ax.semilogx(z_data, mu_data, '.', label='Data', c='cornflowerblue', ms=7, mew=4)\n",
        "ax.errorbar(z_data, mu_data, yerr=np.sqrt(np.diag(cov_mat)), ls='none', c='dodgerblue', label='Data', lw=5)\n",
        "\n",
        "ax.set_xscale('log')\n",
        "ax.set_title('Distance modulus $\\mu$ vs redshift $z$ for the SDSS-II Joint Light-curve Analysis dataset')\n",
        "ax.set_xlabel('$z$')\n",
        "ax.set_ylabel('$\\mu(z)$')\n",
        "ax.legend()\n",
        "plt.tight_layout()\n",
        "plt.show()\n"
      ],
      "metadata": {
        "colab": {
          "base_uri": "https://localhost:8080/",
          "height": 490
        },
        "id": "kzIoI4A9KitZ",
        "outputId": "aaaf42de-e7aa-43cc-d807-a247f95fa820"
      },
      "execution_count": null,
      "outputs": [
        {
          "output_type": "display_data",
          "data": {
            "text/plain": [
              "<Figure size 1008x504 with 1 Axes>"
            ],
            "image/png": "[encoded data removed]"
          },
          "metadata": {}
        }
      ]
    },
    {
      "cell_type": "code",
      "source": [],
      "metadata": {
        "id": "Dct0xx7AKuFp"
      },
      "execution_count": null,
      "outputs": []
    }
  ]
}